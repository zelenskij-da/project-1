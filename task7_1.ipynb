{
  "nbformat": 4,
  "nbformat_minor": 0,
  "metadata": {
    "colab": {
      "provenance": [],
      "authorship_tag": "ABX9TyMTzkrz3pD8cyI0NYC761bR",
      "include_colab_link": true
    },
    "kernelspec": {
      "name": "python3",
      "display_name": "Python 3"
    },
    "language_info": {
      "name": "python"
    }
  },
  "cells": [
    {
      "cell_type": "markdown",
      "metadata": {
        "id": "view-in-github",
        "colab_type": "text"
      },
      "source": [
        "<a href=\"https://colab.research.google.com/github/zelenskij-da/project-1/blob/main/task7_1.ipynb\" target=\"_parent\"><img src=\"https://colab.research.google.com/assets/colab-badge.svg\" alt=\"Open In Colab\"/></a>"
      ]
    },
    {
      "cell_type": "code",
      "source": [
        "#Код из задания 6.2 курса\n",
        "import pandas as pd\n",
        "def row_col_num(file):\n",
        "    data = pd.read_csv(file)\n",
        "    data.shape\n",
        "    rows = data.shape[0]\n",
        "    cols = data.shape[1]\n",
        "    return f'В таблице {rows} строк и {cols} столбцов'"
      ],
      "metadata": {
        "id": "PhxA3TK1oP_4"
      },
      "execution_count": 20,
      "outputs": []
    }
  ]
}